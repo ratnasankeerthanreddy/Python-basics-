{
 "cells": [
  {
   "cell_type": "markdown",
   "metadata": {},
   "source": [
    "1. Write a function that inputs a number and prints the multiplication table of that number# 1. Write a function that inputs a number and prints the multiplication table of that number"
   ]
  },
  {
   "cell_type": "code",
   "execution_count": 1,
   "metadata": {},
   "outputs": [
    {
     "name": "stdout",
     "output_type": "stream",
     "text": [
      "enter the number for the table :11\n",
      "11 x 1 = 11\n",
      "11 x 2 = 22\n",
      "11 x 3 = 33\n",
      "11 x 4 = 44\n",
      "11 x 5 = 55\n",
      "11 x 6 = 66\n",
      "11 x 7 = 77\n",
      "11 x 8 = 88\n",
      "11 x 9 = 99\n",
      "11 x 10 = 110\n"
     ]
    }
   ],
   "source": [
    "#static input \n",
    "\n",
    "number=int(input(\"enter the number for the table :\"))\n",
    "\n",
    "#using for loop\n",
    "for i in range (1,11):\n",
    "    print(\"{} x {} = {}\".format(number,i,number*i))\n"
   ]
  },
  {
   "cell_type": "markdown",
   "metadata": {},
   "source": [
    "2.Write a program to print twin primes less than 1000. If two consecutive odd numbers are\n",
    "both prime then they are known as twin primes "
   ]
  },
  {
   "cell_type": "code",
   "execution_count": 1,
   "metadata": {},
   "outputs": [
    {
     "name": "stdout",
     "output_type": "stream",
     "text": [
      "( 3 , 5 )( 5 , 7 )( 11 , 13 )( 17 , 19 )( 29 , 31 )( 41 , 43 )( 59 , 61 )( 71 , 73 )( 101 , 103 )( 107 , 109 )( 137 , 139 )( 149 , 151 )( 179 , 181 )( 191 , 193 )( 197 , 199 )( 227 , 229 )( 239 , 241 )( 269 , 271 )( 281 , 283 )( 311 , 313 )( 347 , 349 )( 419 , 421 )( 431 , 433 )( 461 , 463 )( 521 , 523 )( 569 , 571 )( 599 , 601 )( 617 , 619 )( 641 , 643 )( 659 , 661 )( 809 , 811 )( 821 , 823 )( 827 , 829 )( 857 , 859 )( 881 , 883 )"
     ]
    }
   ],
   "source": [
    "def printTwinPrime(n):\n",
    "    \n",
    "    \n",
    "    prime= [True for i in range(n+2)]\n",
    "    p=2\n",
    "    \n",
    "    \n",
    "    while (p*p<=n+1):\n",
    "        \n",
    "        \n",
    "        if (prime[p]==True):\n",
    "            for i in range (p*2,n+2,p):\n",
    "                prime[i]=False\n",
    "        p+=1\n",
    "    \n",
    "    for p in range(2,n-1):\n",
    "        if prime[p] and prime[p + 2]:\n",
    "            print(\"(\",p,\",\",(p+2),\")\",end='')\n",
    "            \n",
    "            \n",
    "if __name__=='__main__':\n",
    "     \n",
    "        n=1000\n",
    "        \n",
    "        \n",
    "        \n",
    "        printTwinPrime(n)\n",
    "    \n",
    "    "
   ]
  },
  {
   "cell_type": "markdown",
   "metadata": {},
   "source": [
    "3. Write a program to find out the prime factors of a number"
   ]
  },
  {
   "cell_type": "code",
   "execution_count": 2,
   "metadata": {},
   "outputs": [
    {
     "name": "stdout",
     "output_type": "stream",
     "text": [
      "Enter the any nuumber:12\n",
      "2\n",
      "2\n",
      "3.0\n"
     ]
    }
   ],
   "source": [
    "\n",
    "import math\n",
    "\n",
    "\n",
    "def primeFactors(n):\n",
    "    \n",
    "    \n",
    "    while n%2==0:\n",
    "        print(\"2\") ,\n",
    "        n=n/2\n",
    "    for i in range(3,int(math.sqrt(n))+1,2):\n",
    "        \n",
    "        while n%i==0:\n",
    "            print (i),\n",
    "            n=n/i\n",
    "            \n",
    "    if n>2:\n",
    "        print (n)\n",
    "\n",
    "\n",
    "\n",
    "n=int(input(\"Enter the any nuumber:\"))\n",
    "primeFactors(n)"
   ]
  },
  {
   "cell_type": "markdown",
   "metadata": {},
   "source": [
    "4 .Write a program to implement these formulae of permutations and combinations.\n",
    "Number of permutations of n objects taken r at a time: p(n, r) = n! / (n-r)!. Number of\n",
    "combinations of n objects taken r at a time is: c(n, r) = n! / (r!*(n-r)!) = p(n,r) / r!"
   ]
  },
  {
   "cell_type": "markdown",
   "metadata": {},
   "source": [
    "### CODE FOR THE COMBINATIONS"
   ]
  },
  {
   "cell_type": "code",
   "execution_count": 7,
   "metadata": {},
   "outputs": [
    {
     "name": "stdout",
     "output_type": "stream",
     "text": [
      "enter the 'n ' valve:15\n",
      "enter the 'r' valve:4\n",
      "1365\n"
     ]
    }
   ],
   "source": [
    "#defining the function\n",
    "\n",
    "\n",
    "\n",
    "def nCr(n,r):\n",
    "    return(fact(n)/(fact(r)*fact(n-r)))\n",
    "\n",
    "def fact(n):\n",
    "    \n",
    "    res = 1\n",
    "    \n",
    "    for i in range (2,n+1):\n",
    "        res=res*i\n",
    "    return res\n",
    "\n",
    "#dynamic input\n",
    "\n",
    "n=int(input(\"enter the 'n ' valve:\"))\n",
    "r=int(input(\"enter the 'r' valve:\"))\n",
    "\n",
    "\n",
    "#print the values\n",
    "print(int(nCr(n,r)))"
   ]
  },
  {
   "cell_type": "markdown",
   "metadata": {},
   "source": [
    "### CODE FOR THE permutations"
   ]
  },
  {
   "cell_type": "code",
   "execution_count": 8,
   "metadata": {},
   "outputs": [
    {
     "name": "stdout",
     "output_type": "stream",
     "text": [
      "enter the 'n ' valve:15\n",
      "enter the 'r' valve:4\n",
      "32760\n"
     ]
    }
   ],
   "source": [
    "#defining the function\n",
    "\n",
    "\n",
    "def nPr(n,r):\n",
    "    return(fact(n)/fact(n-r))\n",
    "\n",
    "def fact(n):\n",
    "    \n",
    "    res = 1\n",
    "    \n",
    "    for i in range (2,n+1):\n",
    "        res=res*i\n",
    "    return res\n",
    "\n",
    "\n",
    "\n",
    "#dynamic input\n",
    "n=int(input(\"enter the 'n ' valve:\"))\n",
    "r=int(input(\"enter the 'r' valve:\"))\n",
    "\n",
    "\n",
    "#printing the output\n",
    "print(int(nPr(n,r)))"
   ]
  },
  {
   "cell_type": "markdown",
   "metadata": {},
   "source": [
    "\n",
    "5. Write a function that converts a decimal number to binary number"
   ]
  },
  {
   "cell_type": "code",
   "execution_count": 10,
   "metadata": {},
   "outputs": [
    {
     "name": "stdout",
     "output_type": "stream",
     "text": [
      "enter any decimal no:45\n",
      "101101"
     ]
    }
   ],
   "source": [
    "#defining the function\n",
    "#here dtb means decimal to binary \n",
    "\n",
    "def dtb(num):\n",
    "    if num>1:\n",
    "        dtb(num//2)\n",
    "    print(num%2,end='')\n",
    "    \n",
    "num=int(input(\"enter any decimal no:\")) \n",
    "\n",
    "dtb(num)"
   ]
  },
  {
   "cell_type": "markdown",
   "metadata": {},
   "source": [
    "6  Write a function cubesum() that accepts an integer and returns the sum of the cubes of individual digits of that number.\n",
    " \n",
    " Use this function to make functions PrintArmstrong() and\n",
    "isArmstrong() to print Armstrong numbers and to find whether is an Armstrong number."
   ]
  },
  {
   "cell_type": "code",
   "execution_count": 8,
   "metadata": {},
   "outputs": [
    {
     "name": "stdout",
     "output_type": "stream",
     "text": [
      "Enter the number : 153\n",
      "153 is an Armstrong number.\n"
     ]
    }
   ],
   "source": [
    "#https://www.programiz.com/python-programming/examples/armstrong-number\n",
    "\n",
    "num=int(input(\"Enter the number : \"))\n",
    "order=len(str(num))\n",
    "\n",
    "#inititating the sum\n",
    "sum=0\n",
    "#finding the sum of cubes of ecah digits\n",
    "temp=num\n",
    "while temp>0:\n",
    "    digit=temp%10\n",
    "    sum+=digit**order\n",
    "    temp//=10\n",
    "    \n",
    "    \n",
    "  #printing the results \n",
    "\n",
    "if num==sum:\n",
    "    print(num,\"is an Armstrong number.\")\n",
    "else:\n",
    "        print(num,\"is not an armstrong number.\")"
   ]
  },
  {
   "cell_type": "markdown",
   "metadata": {},
   "source": [
    "7. Write a function prodDigits() that inputs a number and returns the product of digits of that number."
   ]
  },
  {
   "cell_type": "code",
   "execution_count": 22,
   "metadata": {},
   "outputs": [
    {
     "name": "stdout",
     "output_type": "stream",
     "text": [
      "Enter  the number :  1214\n",
      "8\n"
     ]
    }
   ],
   "source": [
    "def prodOfDigits(num):\n",
    "    product = 1\n",
    "  \n",
    "    while (num!= 0): \n",
    "        product = product * (num % 10) \n",
    "        num = num // 10\n",
    "  \n",
    "    return product \n",
    "  \n",
    "# Dynamic input \n",
    "num = int(input(\"Enter  the number :  \"))\n",
    "print(prodOfDigits(num))"
   ]
  },
  {
   "cell_type": "markdown",
   "metadata": {},
   "source": [
    "8. If all digits of a number n are multiplied by each other repeating with the product, the one digit number obtained at last is called the multiplicative digital root of n. The number of times digits need to be multiplied to reach one digit is called the multiplicative persistance of n.\n",
    "\n",
    "\n",
    "Example: 86 -> 48 -> 32 -> 6 (MDR 6, MPersistence 3)\n",
    "341 -> 12->2 (MDR 2, MPersistence 2)\n",
    "Using the function prodDigits() of previous exercise write functions MDR() and\n",
    "MPersistence() that input a number and return its multiplicative digital root and\n",
    "multiplicative persistence respectively"
   ]
  },
  {
   "cell_type": "code",
   "execution_count": null,
   "metadata": {},
   "outputs": [],
   "source": [
    "#https://codereview.stackexchange.com/questions/156769/repeatedly-multiplying-digits-until-a-single-digit-is-obtained"
   ]
  },
  {
   "cell_type": "code",
   "execution_count": 37,
   "metadata": {},
   "outputs": [
    {
     "name": "stdout",
     "output_type": "stream",
     "text": [
      "Enter a valid number : 341\n",
      "MRD 2 \n",
      " Mpersistence 2\n"
     ]
    }
   ],
   "source": [
    "def getMDRAndMPersistence(num):  #defing the function of mrd and mpersistence\n",
    "    count=0\n",
    "    while(True):\n",
    "        count += 1\n",
    "        prodOfDigits = prodDigits(num)\n",
    "        if(prodOfDigits < 10):\n",
    "            return [prodOfDigits, count]\n",
    "        num = prodOfDigits\n",
    "\n",
    "    return [prodOfDigits, count] \n",
    "\n",
    "def MDR(num):\n",
    "   #defining the mrd\n",
    "    if(num < 10):\n",
    "        return num\n",
    "    return getMDRAndMPersistence(num)[0]\n",
    "def MPersistence(num):\n",
    "    if(num <= 10):                              #defining the m presistance\n",
    "        return 1\n",
    "    return getMDRAndMPersistence(num)[1]\n",
    "\n",
    "#dynmaic input\n",
    "\n",
    "num = int(input('Enter a valid number : '))\n",
    "#printing the results \n",
    "print('MRD',MDR(num),'\\n','Mpersistence',MPersistence(num))\n",
    "\n"
   ]
  },
  {
   "cell_type": "markdown",
   "metadata": {},
   "source": [
    " 9. Write a function sumPdivisors() that finds the sum of proper divisors of a number. Proper divisors of a number are those numbers by which the number is divisible, except the number itself. \n",
    " For example proper divisors of 36 are 1, 2, 3, 4, 6, 9, 18\n"
   ]
  },
  {
   "cell_type": "code",
   "execution_count": 23,
   "metadata": {},
   "outputs": [
    {
     "name": "stdout",
     "output_type": "stream",
     "text": [
      "Enter the  number : 36\n",
      "55.0\n"
     ]
    }
   ],
   "source": [
    "#Vhttps://www.geeksforgeeks.org/sum-of-all-proper-divisors-of-a-natural-number/\n",
    "\n",
    "import math\n",
    "def sumPdivisors(num):\n",
    "    result=0\n",
    "    i=2\n",
    "    while i<= (math.sqrt(num)) : \n",
    "        if (num % i==0) :           \n",
    "            if (i == (num/i)) : \n",
    "                result = result+i; \n",
    "            else : \n",
    "                result =result+(i + num/i); \n",
    "        i = i +1\n",
    "    return (result + 1); \n",
    "num=int(input(\"Enter the  number : \"))\n",
    "print(sumPdivisors(num))"
   ]
  },
  {
   "cell_type": "markdown",
   "metadata": {},
   "source": [
    "10. A number is called perfect if the sum of proper divisors of that number is equal to the\n",
    "number. \n",
    "\n",
    "For example 28 is perfect number, since 1+2+4+7+14=28. Write a program to\n",
    "print all the perfect numbers in a given range\n",
    "Sum of proper divisors of 220 = 1+2+4+5+10+11+20+22+44+55+110 = 284\n",
    "Sum of proper divisors of 284 = 1+2+4+71+142 = 220\n",
    "Write a function to print pairs of amicable numbers in a range"
   ]
  },
  {
   "cell_type": "code",
   "execution_count": 44,
   "metadata": {},
   "outputs": [
    {
     "name": "stdout",
     "output_type": "stream",
     "text": [
      "Below are all perfect numbers till 10000\n",
      "6  is a perfect number\n",
      "28  is a perfect number\n",
      "496  is a perfect number\n"
     ]
    }
   ],
   "source": [
    "#https://www.geeksforgeeks.org/perfect-number/\n",
    "def isPerfect( num ): \n",
    "                  # To store sum of divisors \n",
    "    sum = 1\n",
    " # Find all divisors and add them \n",
    "    i = 2\n",
    "    while i * i <= num: \n",
    "        if num % i == 0: \n",
    "            sum = sum + i + num/i \n",
    "        i += 1\n",
    " # If sum of divisors is equal to \n",
    "    # n, then n is a perfect number \n",
    "      \n",
    "    return (True if sum == num and num!=1 else False) \n",
    "\n",
    "# static input\n",
    "\n",
    "print(\"Below are all perfect numbers till 10000\") \n",
    "num = 2\n",
    "for num in range (1000): \n",
    "    if isPerfect (num): \n",
    "        print(num , \" is a perfect number\") \n",
    "        "
   ]
  },
  {
   "cell_type": "markdown",
   "metadata": {},
   "source": [
    "11. Two different numbers are called amicable numbers if the sum of the proper divisors of each is equal to the other number. For example 220 and 284 are amicable numbers."
   ]
  },
  {
   "cell_type": "code",
   "execution_count": 12,
   "metadata": {},
   "outputs": [
    {
     "name": "stdout",
     "output_type": "stream",
     "text": [
      "Enter number 1: 220\n",
      "Enter number 2: 284\n",
      "220 & 284 are Amicable numbers!.\n"
     ]
    }
   ],
   "source": [
    "#https://www.sanfoundry.com/python-program-check-numbers-amicable/\n",
    "\n",
    "x=int(input('Enter number 1: '))\n",
    "y=int(input('Enter number 2: '))\n",
    "sum1=0\n",
    "sum2=0\n",
    "for i in range(1,x):\n",
    "    if x%i==0:\n",
    "        sum1+=i\n",
    "for j in range(1,y):\n",
    "    if y%j==0:\n",
    "        sum2+=j\n",
    "if(sum1==y and sum2==x):\n",
    "    print(x,'&',y,'are Amicable numbers!.')\n",
    "else:\n",
    "    print(x,'&',y, 'are Not Amicable numbers!.')"
   ]
  },
  {
   "cell_type": "markdown",
   "metadata": {},
   "source": [
    "12. Write a program which can filter odd numbers in a list by using filter function"
   ]
  },
  {
   "cell_type": "code",
   "execution_count": 1,
   "metadata": {},
   "outputs": [
    {
     "name": "stdout",
     "output_type": "stream",
     "text": [
      "[1, 3, 5]\n"
     ]
    }
   ],
   "source": [
    "#https://www.geeksforgeeks.org/filter-in-python/\n",
    "\n",
    "a=[1,2,3,4,5,6]\n",
    "r=filter(lambda x: x % 2, a)\n",
    "print(list(r))"
   ]
  },
  {
   "cell_type": "markdown",
   "metadata": {},
   "source": [
    "13. Write a program which can map() to make a list whose elements are cube of elements in a given list"
   ]
  },
  {
   "cell_type": "code",
   "execution_count": 66,
   "metadata": {},
   "outputs": [
    {
     "name": "stdout",
     "output_type": "stream",
     "text": [
      "1\n",
      "8\n",
      "27\n",
      "64\n",
      "125\n"
     ]
    }
   ],
   "source": [
    "#https://www.geeksforgeeks.org/filter-in-python/\n",
    "\n",
    "lst=[1,2,3,4,5]\n",
    "sqrdNum=map(lambda x: x**3,lst)\n",
    "for i in sqrdNum:\n",
    "    print(i)"
   ]
  },
  {
   "cell_type": "markdown",
   "metadata": {},
   "source": [
    "14. Write a program which can map() and filter() to make a list whose elements are cube of even number in a given list"
   ]
  },
  {
   "cell_type": "code",
   "execution_count": 3,
   "metadata": {},
   "outputs": [
    {
     "name": "stdout",
     "output_type": "stream",
     "text": [
      "[2, 4, 6, 8, 10, 18]\n",
      "8\n",
      "64\n",
      "216\n",
      "512\n",
      "1000\n",
      "5832\n"
     ]
    }
   ],
   "source": [
    "#https://www.geeksforgeeks.org/filter-in-python/\n",
    "\n",
    "\n",
    "lst=[1,2,3,4,5,6,8,9,10,19,18,17]\n",
    "EvenNum=list(filter(lambda x: (x%2==0),lst))\n",
    "print(EvenNum)\n",
    "sqrdNum=list(map(lambda x: x**3,EvenNum))\n",
    "for i in sqrdNum:\n",
    "    print(i)"
   ]
  },
  {
   "cell_type": "code",
   "execution_count": null,
   "metadata": {},
   "outputs": [],
   "source": [
    "#reference from \n",
    "#greeksforgeeks\n",
    "#stackoverflow\n",
    "#stackexchange \n",
    "#and some python cheat codes"
   ]
  },
  {
   "cell_type": "code",
   "execution_count": null,
   "metadata": {},
   "outputs": [],
   "source": []
  },
  {
   "cell_type": "code",
   "execution_count": null,
   "metadata": {},
   "outputs": [],
   "source": []
  }
 ],
 "metadata": {
  "kernelspec": {
   "display_name": "Python 3",
   "language": "python",
   "name": "python3"
  },
  "language_info": {
   "codemirror_mode": {
    "name": "ipython",
    "version": 3
   },
   "file_extension": ".py",
   "mimetype": "text/x-python",
   "name": "python",
   "nbconvert_exporter": "python",
   "pygments_lexer": "ipython3",
   "version": "3.7.3"
  }
 },
 "nbformat": 4,
 "nbformat_minor": 2
}
